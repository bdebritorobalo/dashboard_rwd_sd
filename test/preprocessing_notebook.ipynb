{
 "cells": [
  {
   "cell_type": "code",
   "execution_count": 5,
   "metadata": {},
   "outputs": [],
   "source": [
    "import uuid\n",
    "import pandas as pd\n"
   ]
  },
  {
   "cell_type": "code",
   "execution_count": 6,
   "metadata": {},
   "outputs": [],
   "source": [
    "df = pd.read_table('../data/20240529_all_procedures.rpt')"
   ]
  },
  {
   "cell_type": "code",
   "execution_count": 7,
   "metadata": {},
   "outputs": [
    {
     "data": {
      "text/plain": [
       "Index(['identifier_value', 'subject_Patient_value', 'specialty_code_original',\n",
       "       'surgery_admission_start', 'surgery_admission_end', 'time_OR', 'name',\n",
       "       'postop_diagnosis', 'postop_diagnosis_code', 'postop_diagnosis_text',\n",
       "       'procedure_code', 'procedure_text', 'main_procedure', 'procedure_start',\n",
       "       'procedure_end', 'procedure_duration', 'procedure_duration_fix',\n",
       "       'age_procedure', 'status_sternum', 'ECC_duur_min', 'AoX_duur_min',\n",
       "       'Circulatory_arrest_min', 'Antegrade_circulation_min'],\n",
       "      dtype='object')"
      ]
     },
     "execution_count": 7,
     "metadata": {},
     "output_type": "execute_result"
    }
   ],
   "source": [
    "df.columns\n",
    "\n",
    "\n",
    "#    'identifier_value', 'subject_Patient_value', 'specialty_code_original', 2\n",
    "#    'surgery_admission_start', 'surgery_admission_end', 'time_OR', 'name', 6\n",
    "#    'postop_diagnosis', 'postop_diagnosis_code', 'postop_diagnosis_text', 9\n",
    "#    'procedure_code', 'procedure_text', 'main_procedure', 'procedure_start',13\n",
    "#    'procedure_end', 'procedure_duration', 'procedure_duration_fix', 16\n",
    "#    'age_procedure', 'status_sternum', 'ECC_duur_min', 'AoX_duur_min',20\n",
    "#    'Circulatory_arrest_min', 'Antegrade_circulation_min' 22\n",
    "# ['identifier_value', 'subject_Patient_value',\n",
    "#   'time_OR', 'postop_diagnosis_code', \n",
    "#   'postop_diagnosis_text', 'main_procedure',\n",
    "#   'procedure_duration', 'procedure_duration_fix',\n",
    "#   'age_procedure', 'status_sternum', 'ECC_duur_min', \n",
    "#   'AoX_duur_min','Circulatory_arrest_min', \n",
    "#   'Antegrade_circulation_min' ]"
   ]
  },
  {
   "cell_type": "markdown",
   "metadata": {},
   "source": [
    "### Trial and Erros "
   ]
  },
  {
   "cell_type": "code",
   "execution_count": 8,
   "metadata": {},
   "outputs": [],
   "source": [
    "x = uuid.uuid4().int"
   ]
  },
  {
   "cell_type": "code",
   "execution_count": 9,
   "metadata": {},
   "outputs": [
    {
     "ename": "FileNotFoundError",
     "evalue": "[Errno 2] No such file or directory: '20240522_ctc_procedures.xlsx'",
     "output_type": "error",
     "traceback": [
      "\u001b[0;31m---------------------------------------------------------------------------\u001b[0m",
      "\u001b[0;31mFileNotFoundError\u001b[0m                         Traceback (most recent call last)",
      "Cell \u001b[0;32mIn[9], line 1\u001b[0m\n\u001b[0;32m----> 1\u001b[0m df \u001b[38;5;241m=\u001b[39m \u001b[43mpd\u001b[49m\u001b[38;5;241;43m.\u001b[39;49m\u001b[43mread_excel\u001b[49m\u001b[43m(\u001b[49m\u001b[38;5;124;43m'\u001b[39;49m\u001b[38;5;124;43m20240522_ctc_procedures.xlsx\u001b[39;49m\u001b[38;5;124;43m'\u001b[39;49m\u001b[43m,\u001b[49m\u001b[43m \u001b[49m\u001b[43mheader\u001b[49m\u001b[38;5;241;43m=\u001b[39;49m\u001b[38;5;28;43;01mNone\u001b[39;49;00m\u001b[43m)\u001b[49m\n",
      "File \u001b[0;32m~/miniconda3/envs/py311/lib/python3.11/site-packages/pandas/io/excel/_base.py:478\u001b[0m, in \u001b[0;36mread_excel\u001b[0;34m(io, sheet_name, header, names, index_col, usecols, dtype, engine, converters, true_values, false_values, skiprows, nrows, na_values, keep_default_na, na_filter, verbose, parse_dates, date_parser, date_format, thousands, decimal, comment, skipfooter, storage_options, dtype_backend)\u001b[0m\n\u001b[1;32m    476\u001b[0m \u001b[38;5;28;01mif\u001b[39;00m \u001b[38;5;129;01mnot\u001b[39;00m \u001b[38;5;28misinstance\u001b[39m(io, ExcelFile):\n\u001b[1;32m    477\u001b[0m     should_close \u001b[38;5;241m=\u001b[39m \u001b[38;5;28;01mTrue\u001b[39;00m\n\u001b[0;32m--> 478\u001b[0m     io \u001b[38;5;241m=\u001b[39m \u001b[43mExcelFile\u001b[49m\u001b[43m(\u001b[49m\u001b[43mio\u001b[49m\u001b[43m,\u001b[49m\u001b[43m \u001b[49m\u001b[43mstorage_options\u001b[49m\u001b[38;5;241;43m=\u001b[39;49m\u001b[43mstorage_options\u001b[49m\u001b[43m,\u001b[49m\u001b[43m \u001b[49m\u001b[43mengine\u001b[49m\u001b[38;5;241;43m=\u001b[39;49m\u001b[43mengine\u001b[49m\u001b[43m)\u001b[49m\n\u001b[1;32m    479\u001b[0m \u001b[38;5;28;01melif\u001b[39;00m engine \u001b[38;5;129;01mand\u001b[39;00m engine \u001b[38;5;241m!=\u001b[39m io\u001b[38;5;241m.\u001b[39mengine:\n\u001b[1;32m    480\u001b[0m     \u001b[38;5;28;01mraise\u001b[39;00m \u001b[38;5;167;01mValueError\u001b[39;00m(\n\u001b[1;32m    481\u001b[0m         \u001b[38;5;124m\"\u001b[39m\u001b[38;5;124mEngine should not be specified when passing \u001b[39m\u001b[38;5;124m\"\u001b[39m\n\u001b[1;32m    482\u001b[0m         \u001b[38;5;124m\"\u001b[39m\u001b[38;5;124man ExcelFile - ExcelFile already has the engine set\u001b[39m\u001b[38;5;124m\"\u001b[39m\n\u001b[1;32m    483\u001b[0m     )\n",
      "File \u001b[0;32m~/miniconda3/envs/py311/lib/python3.11/site-packages/pandas/io/excel/_base.py:1496\u001b[0m, in \u001b[0;36mExcelFile.__init__\u001b[0;34m(self, path_or_buffer, engine, storage_options)\u001b[0m\n\u001b[1;32m   1494\u001b[0m     ext \u001b[38;5;241m=\u001b[39m \u001b[38;5;124m\"\u001b[39m\u001b[38;5;124mxls\u001b[39m\u001b[38;5;124m\"\u001b[39m\n\u001b[1;32m   1495\u001b[0m \u001b[38;5;28;01melse\u001b[39;00m:\n\u001b[0;32m-> 1496\u001b[0m     ext \u001b[38;5;241m=\u001b[39m \u001b[43minspect_excel_format\u001b[49m\u001b[43m(\u001b[49m\n\u001b[1;32m   1497\u001b[0m \u001b[43m        \u001b[49m\u001b[43mcontent_or_path\u001b[49m\u001b[38;5;241;43m=\u001b[39;49m\u001b[43mpath_or_buffer\u001b[49m\u001b[43m,\u001b[49m\u001b[43m \u001b[49m\u001b[43mstorage_options\u001b[49m\u001b[38;5;241;43m=\u001b[39;49m\u001b[43mstorage_options\u001b[49m\n\u001b[1;32m   1498\u001b[0m \u001b[43m    \u001b[49m\u001b[43m)\u001b[49m\n\u001b[1;32m   1499\u001b[0m     \u001b[38;5;28;01mif\u001b[39;00m ext \u001b[38;5;129;01mis\u001b[39;00m \u001b[38;5;28;01mNone\u001b[39;00m:\n\u001b[1;32m   1500\u001b[0m         \u001b[38;5;28;01mraise\u001b[39;00m \u001b[38;5;167;01mValueError\u001b[39;00m(\n\u001b[1;32m   1501\u001b[0m             \u001b[38;5;124m\"\u001b[39m\u001b[38;5;124mExcel file format cannot be determined, you must specify \u001b[39m\u001b[38;5;124m\"\u001b[39m\n\u001b[1;32m   1502\u001b[0m             \u001b[38;5;124m\"\u001b[39m\u001b[38;5;124man engine manually.\u001b[39m\u001b[38;5;124m\"\u001b[39m\n\u001b[1;32m   1503\u001b[0m         )\n",
      "File \u001b[0;32m~/miniconda3/envs/py311/lib/python3.11/site-packages/pandas/io/excel/_base.py:1371\u001b[0m, in \u001b[0;36minspect_excel_format\u001b[0;34m(content_or_path, storage_options)\u001b[0m\n\u001b[1;32m   1368\u001b[0m \u001b[38;5;28;01mif\u001b[39;00m \u001b[38;5;28misinstance\u001b[39m(content_or_path, \u001b[38;5;28mbytes\u001b[39m):\n\u001b[1;32m   1369\u001b[0m     content_or_path \u001b[38;5;241m=\u001b[39m BytesIO(content_or_path)\n\u001b[0;32m-> 1371\u001b[0m \u001b[38;5;28;01mwith\u001b[39;00m \u001b[43mget_handle\u001b[49m\u001b[43m(\u001b[49m\n\u001b[1;32m   1372\u001b[0m \u001b[43m    \u001b[49m\u001b[43mcontent_or_path\u001b[49m\u001b[43m,\u001b[49m\u001b[43m \u001b[49m\u001b[38;5;124;43m\"\u001b[39;49m\u001b[38;5;124;43mrb\u001b[39;49m\u001b[38;5;124;43m\"\u001b[39;49m\u001b[43m,\u001b[49m\u001b[43m \u001b[49m\u001b[43mstorage_options\u001b[49m\u001b[38;5;241;43m=\u001b[39;49m\u001b[43mstorage_options\u001b[49m\u001b[43m,\u001b[49m\u001b[43m \u001b[49m\u001b[43mis_text\u001b[49m\u001b[38;5;241;43m=\u001b[39;49m\u001b[38;5;28;43;01mFalse\u001b[39;49;00m\n\u001b[1;32m   1373\u001b[0m \u001b[43m\u001b[49m\u001b[43m)\u001b[49m \u001b[38;5;28;01mas\u001b[39;00m handle:\n\u001b[1;32m   1374\u001b[0m     stream \u001b[38;5;241m=\u001b[39m handle\u001b[38;5;241m.\u001b[39mhandle\n\u001b[1;32m   1375\u001b[0m     stream\u001b[38;5;241m.\u001b[39mseek(\u001b[38;5;241m0\u001b[39m)\n",
      "File \u001b[0;32m~/miniconda3/envs/py311/lib/python3.11/site-packages/pandas/io/common.py:868\u001b[0m, in \u001b[0;36mget_handle\u001b[0;34m(path_or_buf, mode, encoding, compression, memory_map, is_text, errors, storage_options)\u001b[0m\n\u001b[1;32m    859\u001b[0m         handle \u001b[38;5;241m=\u001b[39m \u001b[38;5;28mopen\u001b[39m(\n\u001b[1;32m    860\u001b[0m             handle,\n\u001b[1;32m    861\u001b[0m             ioargs\u001b[38;5;241m.\u001b[39mmode,\n\u001b[0;32m   (...)\u001b[0m\n\u001b[1;32m    864\u001b[0m             newline\u001b[38;5;241m=\u001b[39m\u001b[38;5;124m\"\u001b[39m\u001b[38;5;124m\"\u001b[39m,\n\u001b[1;32m    865\u001b[0m         )\n\u001b[1;32m    866\u001b[0m     \u001b[38;5;28;01melse\u001b[39;00m:\n\u001b[1;32m    867\u001b[0m         \u001b[38;5;66;03m# Binary mode\u001b[39;00m\n\u001b[0;32m--> 868\u001b[0m         handle \u001b[38;5;241m=\u001b[39m \u001b[38;5;28;43mopen\u001b[39;49m\u001b[43m(\u001b[49m\u001b[43mhandle\u001b[49m\u001b[43m,\u001b[49m\u001b[43m \u001b[49m\u001b[43mioargs\u001b[49m\u001b[38;5;241;43m.\u001b[39;49m\u001b[43mmode\u001b[49m\u001b[43m)\u001b[49m\n\u001b[1;32m    869\u001b[0m     handles\u001b[38;5;241m.\u001b[39mappend(handle)\n\u001b[1;32m    871\u001b[0m \u001b[38;5;66;03m# Convert BytesIO or file objects passed with an encoding\u001b[39;00m\n",
      "\u001b[0;31mFileNotFoundError\u001b[0m: [Errno 2] No such file or directory: '20240522_ctc_procedures.xlsx'"
     ]
    }
   ],
   "source": [
    "df = pd.read_excel('20240522_ctc_procedures.xlsx', header=None)"
   ]
  },
  {
   "cell_type": "code",
   "execution_count": null,
   "metadata": {},
   "outputs": [],
   "source": [
    "df.head()"
   ]
  },
  {
   "cell_type": "code",
   "execution_count": null,
   "metadata": {},
   "outputs": [],
   "source": [
    "pid = df[1].unique()"
   ]
  },
  {
   "cell_type": "code",
   "execution_count": null,
   "metadata": {},
   "outputs": [],
   "source": [
    "pid = df[1].unique()\n",
    "patientId = []\n",
    "studyId = []\n",
    "\n",
    "for x in pid: \n",
    "    patientId.append(x)\n",
    "    studyId.append(uuid.uuid4().int)\n",
    "\n",
    "if len(studyId) == len(pid):\n",
    "    print('No copies, al good to continue')\n",
    "    df_studyId = dict(zip(patientId, studyId))\n",
    "    print(df_studyId)\n",
    "    print(df[1].head())\n",
    "    df[1].replace(df_studyId,inplace=True)\n",
    "    print(df[1].head())\n",
    "else: \n",
    "    print('WARNING, there are duplicates in the studyId list')\n",
    "\n",
    "# df_studyId = pd.DataFrame({'patientId':patientId, 'studyId': studyId})\n",
    "\n",
    "# df_studyId.to_csv('pID_stID_keys.csv')"
   ]
  },
  {
   "cell_type": "code",
   "execution_count": null,
   "metadata": {},
   "outputs": [],
   "source": [
    "df.head(2)\n",
    "df2 = df[[1,7,8,9,10,13,14,15,16,17,18,19]]"
   ]
  },
  {
   "cell_type": "code",
   "execution_count": null,
   "metadata": {},
   "outputs": [],
   "source": [
    "df2.to_csv('20240522_2_ctc_procedure_anonymised.csv', header=None,index=None)"
   ]
  },
  {
   "cell_type": "code",
   "execution_count": null,
   "metadata": {},
   "outputs": [],
   "source": [
    "df2.to_excel('20240522_2_ctc_procedure_anonymised.xlsx', header=None, index=None)\n"
   ]
  },
  {
   "cell_type": "code",
   "execution_count": null,
   "metadata": {},
   "outputs": [],
   "source": [
    "df_check = pd.read_excel('20240522_2_ctc_procedure_anonymised.xlsx')"
   ]
  },
  {
   "cell_type": "code",
   "execution_count": null,
   "metadata": {},
   "outputs": [],
   "source": [
    "df_check = pd.read_csv('20240522_2_ctc_procedure_anonymised.csv', header=None, index_col=None)"
   ]
  },
  {
   "cell_type": "code",
   "execution_count": null,
   "metadata": {},
   "outputs": [],
   "source": [
    "df_check.head()"
   ]
  },
  {
   "cell_type": "code",
   "execution_count": null,
   "metadata": {},
   "outputs": [],
   "source": [
    "df_check.info()"
   ]
  },
  {
   "cell_type": "code",
   "execution_count": null,
   "metadata": {},
   "outputs": [],
   "source": [
    "a = dict(df_check[4].value_counts())"
   ]
  },
  {
   "cell_type": "code",
   "execution_count": null,
   "metadata": {},
   "outputs": [],
   "source": [
    "df_single = df_check[4]"
   ]
  },
  {
   "cell_type": "code",
   "execution_count": null,
   "metadata": {},
   "outputs": [],
   "source": [
    "test = pd.DataFrame(df_single.value_counts(), columns= None)"
   ]
  },
  {
   "cell_type": "code",
   "execution_count": null,
   "metadata": {},
   "outputs": [],
   "source": [
    "test.tail(30)"
   ]
  },
  {
   "cell_type": "code",
   "execution_count": null,
   "metadata": {},
   "outputs": [],
   "source": [
    "value_counts = df_check[3].value_counts()\n",
    "filtered_df = df_check[df_check[3].isin(value_counts[value_counts > 5].index)]"
   ]
  },
  {
   "cell_type": "code",
   "execution_count": null,
   "metadata": {},
   "outputs": [],
   "source": [
    "procedures_toexclude = '989999'\n",
    "final_df = filtered_df[filtered_df[3] != procedures_toexclude]"
   ]
  },
  {
   "cell_type": "code",
   "execution_count": null,
   "metadata": {},
   "outputs": [],
   "source": [
    "value_counts2 = pd.DataFrame(final_df[4].value_counts())\n"
   ]
  },
  {
   "cell_type": "code",
   "execution_count": null,
   "metadata": {},
   "outputs": [],
   "source": [
    "value_counts2.tail(23)"
   ]
  },
  {
   "cell_type": "markdown",
   "metadata": {},
   "source": [
    "### Remove negative procedure durations with fix "
   ]
  },
  {
   "cell_type": "code",
   "execution_count": null,
   "metadata": {},
   "outputs": [],
   "source": [
    "import pandas as pd\n",
    "import numpy as np\n",
    "df_raw = pd.read_table('data/20240528_all_procedures.rpt')\n",
    "\n",
    "df = pd.read_table('data/20240528_all_procedures.rpt')\n",
    "df['procedure_duration'] = df[['time_OR', 'procedure_duration', 'procedure_duration_fix']].replace(0, np.nan).abs().min(axis=1)\n",
    "df = df.drop(columns=['procedure_duration_fix'])\n",
    "\n",
    "value_counts = df['postop_diagnosis_code'].value_counts()\n",
    "filter1_df = df[df['postop_diagnosis_code'].isin(value_counts[value_counts >= 5].index)]\n"
   ]
  },
  {
   "cell_type": "code",
   "execution_count": null,
   "metadata": {},
   "outputs": [],
   "source": [
    "filter1_df = df[df['procedure_duration'].isin(value_counts[value_counts > 5].index)]"
   ]
  },
  {
   "cell_type": "code",
   "execution_count": null,
   "metadata": {},
   "outputs": [],
   "source": [
    "df.loc[df['procedure_duration'] <= 0, 'procedure_duration'] = df.loc[df['procedure_duration'] < 0, 'procedure_duration_fix']"
   ]
  },
  {
   "cell_type": "code",
   "execution_count": null,
   "metadata": {},
   "outputs": [],
   "source": [
    "mask = df['procedure_duration'] <= 0\n",
    "df.loc[mask, 'procedure_duration'] = df.loc[mask, 'procedure_duration_fix']"
   ]
  },
  {
   "cell_type": "code",
   "execution_count": null,
   "metadata": {},
   "outputs": [],
   "source": [
    "df['procedure_duration'].value_counts()"
   ]
  },
  {
   "cell_type": "code",
   "execution_count": null,
   "metadata": {},
   "outputs": [],
   "source": []
  },
  {
   "cell_type": "markdown",
   "metadata": {},
   "source": [
    "# Fixed code\n",
    "To create function\n"
   ]
  },
  {
   "cell_type": "code",
   "execution_count": null,
   "metadata": {},
   "outputs": [],
   "source": [
    "df_test= pd.read_table('data/20240528_all_procedures.rpt')"
   ]
  },
  {
   "cell_type": "code",
   "execution_count": null,
   "metadata": {},
   "outputs": [],
   "source": [
    "df_test['postop_diagnosis_text'].value_counts().reset_index().to_csv('df.csv')"
   ]
  },
  {
   "cell_type": "code",
   "execution_count": null,
   "metadata": {},
   "outputs": [],
   "source": [
    "unique_diagnoses = pd.read_csv('df.csv')"
   ]
  },
  {
   "cell_type": "markdown",
   "metadata": {},
   "source": [
    "### FUNCTION \n",
    "Criteria to take into account \n",
    "- Data (CSV) must contain headers (in same format as SQL & Documentation)\n",
    "- Filters are 'toggleable'\n",
    "\n",
    "\n",
    "!TODO: \n",
    "- Update USECOLS in read\n",
    "- "
   ]
  },
  {
   "cell_type": "code",
   "execution_count": null,
   "metadata": {},
   "outputs": [],
   "source": [
    "import uuid\n",
    "import pandas as pd \n",
    "import numpy as np\n",
    "\n",
    "def create_unidentifiable_codes(input_path, output_path_data, keyfile_pid_path, keyfile_encounter_path, filter1=True, filter2=True):\n",
    "    df_raw = pd.read_table(input_path, usecols=['identifier_value', 'subject_Patient_value', 'time_OR', 'postop_diagnosis_code','postop_diagnosis_text', 'procedure_code', 'procedure_text', 'procedure_duration', 'procedure_duration_fix','age_procedure', 'status_sternum', 'ECC_duur_min', 'AoX_duur_min', 'Circulatory_arrest_min', 'Antegrade_circulation_min'])\n",
    "    \n",
    "    #PatientID section \n",
    "    pid = df_raw['subject_Patient_value'].unique()\n",
    "    patientId = []\n",
    "    studyId = []\n",
    "\n",
    "    for x in pid: \n",
    "        patientId.append(x)\n",
    "        studyId.append(uuid.uuid4().hex)\n",
    "\n",
    "    if len(set(studyId)) == len(set(pid)):              # check for number of unique values, should be equal\n",
    "        print('No copies, al good to continue')         # otherwise same studyID generated (very unlikely)\n",
    "        \n",
    "        keyfile = dict(zip(patientId, studyId))      \n",
    "        df_raw['subject_Patient_value'].replace(keyfile, inplace=True)         # replace patientID with studyID\n",
    "\n",
    "        pd.DataFrame({'patientId':patientId, 'studyId': studyId}).to_pickle(keyfile_pid_path)     #('pID_stID_keys.pkl')\n",
    "    else: \n",
    "        print('WARNING, there are duplicates in the studyId list')\n",
    "\n",
    "    # Encounter section\n",
    "    encounter = df_raw['identifier_value'].unique()\n",
    "\n",
    "    encounter_value = []\n",
    "    ok_value = []\n",
    "\n",
    "    for enc in encounter: \n",
    "        encounter_value.append(enc)\n",
    "        ok_value.append(uuid.uuid4().hex)\n",
    "\n",
    "    if len(set(ok_value)) == len(set(encounter)):               # check for number of unique values, should be equal\n",
    "        print('No copies, al good to continue')                 # otherwise same ok_value generated (very unlikely)\n",
    "        \n",
    "        keyfile_encounter = dict(zip(encounter_value, ok_value))      \n",
    "        df_raw['identifier_value'].replace(keyfile_encounter, inplace=True)         # replace patientID with studyID\n",
    "\n",
    "        pd.DataFrame({'encounter_value':patientId, 'ok_value': studyId}).to_pickle(keyfile_encounter_path)    #('enc_ok_value_keys.pkl')\n",
    "    else: \n",
    "        print('WARNING, there are duplicates in the studyId list')\n",
    "\n",
    "    df_raw['procedure_duration'] = df_raw[['time_OR', 'procedure_duration', 'procedure_duration_fix']].replace(0, np.nan).abs().min(axis=1)\n",
    "    df = df_raw.drop(columns=['procedure_duration_fix'])\n",
    "\n",
    "    # filter1 = remove rare postop-diagnoses\n",
    "    if filter1: \n",
    "        value_counts = df['postop_diagnosis_code'].value_counts()\n",
    "        filter1_df = df[df['postop_diagnosis_code'].isin(value_counts[value_counts > 5].index)]\n",
    "\n",
    "    #standardizing dtypes \n",
    "    if filter2:\n",
    "        filter1_df['procedure_code'].astype(str) # NO EFFECT ? --> perhaps with loading data \n",
    "\n",
    "        procedures_toexclude = [989999]             # Geen procedure\n",
    "        for exclude in procedures_toexclude:\n",
    "            filter2_df = filter1_df[filter1_df['procedure_code'] != exclude]\n",
    "\n",
    "    filter2_df.to_csv(output_path_data, header=True, index=False)"
   ]
  },
  {
   "cell_type": "markdown",
   "metadata": {},
   "source": [
    "### First use of function"
   ]
  },
  {
   "cell_type": "code",
   "execution_count": null,
   "metadata": {},
   "outputs": [],
   "source": [
    "create_unidentifiable_codes('data/20240528_all_procedures.rpt', 'test/20240528_filter.csv', 'test/20240528_keyfile_pid.pkl', 'test/20240528_keyfile_identifier.pkl', filter1=True, filter2=True)\n"
   ]
  },
  {
   "cell_type": "code",
   "execution_count": null,
   "metadata": {},
   "outputs": [],
   "source": [
    "df_test = pd.read_csv('test/20240528_filter.csv')"
   ]
  },
  {
   "cell_type": "markdown",
   "metadata": {},
   "source": [
    "### continue normal code\n"
   ]
  },
  {
   "cell_type": "code",
   "execution_count": null,
   "metadata": {},
   "outputs": [],
   "source": [
    "import pandas as pd \n",
    "\n",
    "df_test = pd.read_csv('20240522_3_ctc_procedure_anonymised.csv')"
   ]
  },
  {
   "cell_type": "code",
   "execution_count": null,
   "metadata": {},
   "outputs": [],
   "source": [
    "df_keys = pd.read_pickle('pID_stID_keys.pkl')"
   ]
  },
  {
   "cell_type": "markdown",
   "metadata": {},
   "source": [
    "## check new data extraction"
   ]
  },
  {
   "cell_type": "code",
   "execution_count": null,
   "metadata": {},
   "outputs": [],
   "source": [
    "df = pd.read_excel('data/20240523_procedure.xlsx')"
   ]
  },
  {
   "cell_type": "code",
   "execution_count": null,
   "metadata": {},
   "outputs": [],
   "source": [
    "df['postop_diagnosis_text'].value_counts()"
   ]
  },
  {
   "cell_type": "code",
   "execution_count": null,
   "metadata": {},
   "outputs": [],
   "source": [
    "df['postop_diagnosis_code'].value_counts()\n"
   ]
  },
  {
   "cell_type": "markdown",
   "metadata": {},
   "source": [
    "### Test report files\n"
   ]
  },
  {
   "cell_type": "code",
   "execution_count": null,
   "metadata": {},
   "outputs": [],
   "source": [
    "df = pd.read_table('data/20240528_all_procedures.rpt')"
   ]
  },
  {
   "cell_type": "code",
   "execution_count": null,
   "metadata": {},
   "outputs": [],
   "source": [
    "df.head()"
   ]
  }
 ],
 "metadata": {
  "kernelspec": {
   "display_name": "py311",
   "language": "python",
   "name": "python3"
  },
  "language_info": {
   "codemirror_mode": {
    "name": "ipython",
    "version": 3
   },
   "file_extension": ".py",
   "mimetype": "text/x-python",
   "name": "python",
   "nbconvert_exporter": "python",
   "pygments_lexer": "ipython3",
   "version": "3.11.4"
  }
 },
 "nbformat": 4,
 "nbformat_minor": 2
}
