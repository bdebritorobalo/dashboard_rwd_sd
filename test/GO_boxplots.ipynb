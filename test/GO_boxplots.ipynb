{
 "cells": [
  {
   "cell_type": "markdown",
   "metadata": {},
   "source": [
    "# Template for advanced boxplot\n",
    "Using the `Graph Objects` and boxmode `group`"
   ]
  },
  {
   "cell_type": "code",
   "execution_count": null,
   "metadata": {},
   "outputs": [],
   "source": [
    "import plotly.graph_objects as go\n",
    "\n",
    "# Sample data\n",
    "surgery_types = ['Type A', 'Type B', 'Type C', 'Type A', 'Type B', 'Type C']\n",
    "surgery_duration = [\n",
    "    [45, 50, 55, 60, 65, 70], # Type A\n",
    "    [30, 35, 40, 45, 50],     # Type B\n",
    "    [55, 60, 65, 70, 75, 80]  # Type C\n",
    "]\n",
    "procedure_duration = [\n",
    "    [30, 35, 40, 45, 50, 55], # Type A\n",
    "    [25, 30, 35, 40, 45],     # Type B\n",
    "    [50, 55, 60, 65, 70, 75]  # Type C\n",
    "]\n",
    "\n",
    "#! TODO: Attempt 1: try to make this dynamic\n",
    "#+ \n",
    "\n",
    "x_positions = {\n",
    "    'Type A': 1,\n",
    "    'Type B': 3,\n",
    "    'Type C': 5\n",
    "}\n",
    "\n",
    "\n",
    "# Create Box traces\n",
    "traces = []\n",
    "for i, surgery_type in enumerate(surgery_types):\n",
    "    traces.append(go.Box(\n",
    "        y=surgery_duration[i],\n",
    "        x=surgery_types,\n",
    "        # x=[surgery_type] * len(surgery_duration[i]),\n",
    "        name=f'Surgery Duration -  {surgery_type}',\n",
    "        boxpoints='all',\n",
    "        jitter=0.3,\n",
    "        pointpos=-1.8,\n",
    "        marker=dict(color='blue'),\n",
    "        # offsetgroup='surgery',\n",
    "        # alignmentgroup='a'\n",
    "    ))\n",
    "    traces.append(go.Box(\n",
    "        y=procedure_duration[i],\n",
    "        x= surgery_types,\n",
    "        # x=[surgery_type] * len(procedure_duration[i]),\n",
    "        name=f'Procedure Duration - {surgery_type}',\n",
    "        boxpoints='all',\n",
    "        jitter=0.3,\n",
    "        pointpos=-1.8,\n",
    "        marker=dict(color='orange'),\n",
    "        # offsetgroup='procedure',\n",
    "        # alignmentgroup='a'\n",
    "    ))\n",
    "\n",
    "# Set up the layout\n",
    "layout = go.Layout(\n",
    "    title='Surgery and Procedure Duration by Type',\n",
    "    yaxis=dict(title='Duration (minutes)'),\n",
    "    xaxis=dict(title='Surgery Type'),\n",
    "    boxmode='group' # Group boxes together by x-axis category\n",
    ")\n",
    "\n",
    "# Create a Figure object\n",
    "fig = go.Figure(data=traces, layout=layout)\n",
    "\n",
    "# Display the plot\n",
    "fig.show()\n"
   ]
  },
  {
   "cell_type": "markdown",
   "metadata": {},
   "source": [
    "## Trying to replace the for-loops. Makes it unnecessarily difficult IMHO.\n",
    "\n",
    "- Each trace would be a column with a specific duration (procedure, ECC, AoX, DHCA)\n",
    "- Categories should be a list, that is one-on-one withe the y-values (kinda like a zip())\n",
    "- Y-values = minutes/the durations\n",
    "\n",
    "Note to self:\n",
    "- it almost looks like it would be easier to have the data not stored in columns, but in a huge list like HDP."
   ]
  },
  {
   "cell_type": "markdown",
   "metadata": {},
   "source": [
    "## OG code"
   ]
  },
  {
   "cell_type": "code",
   "execution_count": null,
   "metadata": {},
   "outputs": [],
   "source": [
    "\n",
    "import plotly.graph_objects as go\n",
    "\n",
    "x = ['day 1', 'day 1', 'day 1', 'day 1', 'day 1', 'day 1',\n",
    "     'day 2', 'day 2', 'day 2', 'day 2', 'day 2', 'day 2']\n",
    "\n",
    "fig = go.Figure()\n",
    "\n",
    "fig.add_trace(go.Box(\n",
    "    y=[0.2, 0.2, 0.6, 1.0, 0.5, 0.4, 0.2, 0.7, 0.9, 0.1, 0.5, 0.3],\n",
    "    x=x,\n",
    "    name='kale',\n",
    "    marker_color='#3D9970'\n",
    "))\n",
    "fig.add_trace(go.Box(\n",
    "    y=[0.6, 0.7, 0.3, 0.6, 0.0, 0.5, 0.7, 0.9, 0.5, 0.8, 0.7, 0.2],\n",
    "    x=x,\n",
    "    name='radishes',\n",
    "    marker_color='#FF4136'\n",
    "))\n",
    "fig.add_trace(go.Box(\n",
    "    y=[0.1, 0.3, 0.1, 0.9, 0.6, 0.6, 0.9, 1.0, 0.3, 0.6, 0.8, 0.5],\n",
    "    x=x,\n",
    "    name='carrots',\n",
    "    marker_color='#FF851B'\n",
    "))\n",
    "\n",
    "fig.update_layout(\n",
    "    yaxis_title='normalized moisture',\n",
    "    boxmode='group' # group together boxes of the different traces for each value of x\n",
    ")\n",
    "fig.show()"
   ]
  },
  {
   "cell_type": "markdown",
   "metadata": {},
   "source": [
    "### Get impression of data for generating functions for boxplots"
   ]
  },
  {
   "cell_type": "code",
   "execution_count": null,
   "metadata": {},
   "outputs": [],
   "source": [
    "import pandas as pd \n",
    "\n",
    "df = pd.read_csv('../data/processed/20240603_data_processed.csv')"
   ]
  },
  {
   "cell_type": "markdown",
   "metadata": {},
   "source": [
    "## Start adaptation for our usecase"
   ]
  },
  {
   "cell_type": "code",
   "execution_count": null,
   "metadata": {},
   "outputs": [],
   "source": [
    "import itertools\n",
    "import plotly.graph_objects as go\n",
    "import pandas as pd\n",
    "\n",
    "columns = ['procedure_duration', 'ECC_duration', 'AOX_duration', 'DHCA_duration']\n",
    "# columns=['procedure_duration']\n",
    "procedures = ['333024B', '333226','333025', '333180']\n",
    "colors = ['#4e8ca9', '#D18E46', '#5BB6AB', '#A6CFDF']\n",
    "\n",
    "def create_plot_data(data, procedures, column, main_proc=False):        #! USING CALLBACKS\n",
    "    y_data=[]\n",
    "    x_names=[]\n",
    "\n",
    "    df_dict = pd.DataFrame({'name':['Norwood', 'Glenn', 'Adapted Fontan','ECMO'], 'code':['333024B', '333226','333025', '333180']})\n",
    "\n",
    "    if main_proc:\n",
    "        # print('main_proc is aan')\n",
    "        data = data.loc[data['main_procedure'] == 1]\n",
    "    print(len(data))\n",
    "\n",
    "    for proc in procedures:\n",
    "        data_temp = data[column].loc[data['procedure_code'] == proc]\n",
    "        y_data.extend(data_temp)\n",
    "        x_names.extend(list(itertools.repeat(df_dict['name'].loc[df_dict['code'] == proc].item(),\n",
    "                                             len(data_temp))))\n",
    "    return y_data, x_names\n",
    "\n",
    "\n",
    "\n",
    "df = pd.read_csv('../data/processed/20240603_data_processed.csv')\n",
    "fig = go.Figure()\n",
    "\n",
    "\n",
    "for i, column in enumerate(columns):\n",
    "    y_data, x_names = create_plot_data(data=df, procedures=procedures, column=column, main_proc=True)\n",
    "    fig.add_trace(go.Box(\n",
    "        boxpoints='all',\n",
    "        y= y_data,\n",
    "        x= x_names,\n",
    "        name= f'{column}',\n",
    "        marker_color= colors[i]\n",
    "    ))\n",
    "\n",
    "fig.update_layout(\n",
    "    yaxis_title='Duration in minutes',\n",
    "    xaxis_title='Procedure codes',\n",
    "    boxmode='group'             # group together boxes of the different traces for each value of x\n",
    ")\n",
    "fig.show()"
   ]
  },
  {
   "cell_type": "code",
   "execution_count": null,
   "metadata": {},
   "outputs": [],
   "source": [
    "print(str(df_dict['name'].loc[df_dict['code'] == '333024B'].item()))"
   ]
  }
 ],
 "metadata": {
  "kernelspec": {
   "display_name": "py311",
   "language": "python",
   "name": "python3"
  },
  "language_info": {
   "codemirror_mode": {
    "name": "ipython",
    "version": 3
   },
   "file_extension": ".py",
   "mimetype": "text/x-python",
   "name": "python",
   "nbconvert_exporter": "python",
   "pygments_lexer": "ipython3",
   "version": "3.11.4"
  }
 },
 "nbformat": 4,
 "nbformat_minor": 2
}
