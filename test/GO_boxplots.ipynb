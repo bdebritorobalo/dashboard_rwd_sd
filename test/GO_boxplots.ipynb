{
 "cells": [
  {
   "cell_type": "markdown",
   "metadata": {},
   "source": [
    "# Template for advanced boxplot\n",
    "Using the `Graph Objects` and boxmode `group`"
   ]
  },
  {
   "cell_type": "code",
   "execution_count": 36,
   "metadata": {},
   "outputs": [
    {
     "ename": "IndexError",
     "evalue": "list index out of range",
     "output_type": "error",
     "traceback": [
      "\u001b[0;31m---------------------------------------------------------------------------\u001b[0m",
      "\u001b[0;31mIndexError\u001b[0m                                Traceback (most recent call last)",
      "Cell \u001b[0;32mIn[36], line 30\u001b[0m\n\u001b[1;32m     27\u001b[0m traces \u001b[38;5;241m=\u001b[39m []\n\u001b[1;32m     28\u001b[0m \u001b[38;5;28;01mfor\u001b[39;00m i, surgery_type \u001b[38;5;129;01min\u001b[39;00m \u001b[38;5;28menumerate\u001b[39m(surgery_types):\n\u001b[1;32m     29\u001b[0m     traces\u001b[38;5;241m.\u001b[39mappend(go\u001b[38;5;241m.\u001b[39mBox(\n\u001b[0;32m---> 30\u001b[0m         y\u001b[38;5;241m=\u001b[39m\u001b[43msurgery_duration\u001b[49m\u001b[43m[\u001b[49m\u001b[43mi\u001b[49m\u001b[43m]\u001b[49m,\n\u001b[1;32m     31\u001b[0m         x\u001b[38;5;241m=\u001b[39msurgery_types,\n\u001b[1;32m     32\u001b[0m         \u001b[38;5;66;03m# x=[surgery_type] * len(surgery_duration[i]),\u001b[39;00m\n\u001b[1;32m     33\u001b[0m         name\u001b[38;5;241m=\u001b[39m\u001b[38;5;124mf\u001b[39m\u001b[38;5;124m'\u001b[39m\u001b[38;5;124mSurgery Duration -  \u001b[39m\u001b[38;5;132;01m{\u001b[39;00msurgery_type\u001b[38;5;132;01m}\u001b[39;00m\u001b[38;5;124m'\u001b[39m,\n\u001b[1;32m     34\u001b[0m         boxpoints\u001b[38;5;241m=\u001b[39m\u001b[38;5;124m'\u001b[39m\u001b[38;5;124mall\u001b[39m\u001b[38;5;124m'\u001b[39m,\n\u001b[1;32m     35\u001b[0m         jitter\u001b[38;5;241m=\u001b[39m\u001b[38;5;241m0.3\u001b[39m,\n\u001b[1;32m     36\u001b[0m         pointpos\u001b[38;5;241m=\u001b[39m\u001b[38;5;241m-\u001b[39m\u001b[38;5;241m1.8\u001b[39m,\n\u001b[1;32m     37\u001b[0m         marker\u001b[38;5;241m=\u001b[39m\u001b[38;5;28mdict\u001b[39m(color\u001b[38;5;241m=\u001b[39m\u001b[38;5;124m'\u001b[39m\u001b[38;5;124mblue\u001b[39m\u001b[38;5;124m'\u001b[39m),\n\u001b[1;32m     38\u001b[0m         \u001b[38;5;66;03m# offsetgroup='surgery',\u001b[39;00m\n\u001b[1;32m     39\u001b[0m         \u001b[38;5;66;03m# alignmentgroup='a'\u001b[39;00m\n\u001b[1;32m     40\u001b[0m     ))\n\u001b[1;32m     41\u001b[0m     traces\u001b[38;5;241m.\u001b[39mappend(go\u001b[38;5;241m.\u001b[39mBox(\n\u001b[1;32m     42\u001b[0m         y\u001b[38;5;241m=\u001b[39mprocedure_duration[i],\n\u001b[1;32m     43\u001b[0m         x\u001b[38;5;241m=\u001b[39m surgery_types,\n\u001b[0;32m   (...)\u001b[0m\n\u001b[1;32m     51\u001b[0m         \u001b[38;5;66;03m# alignmentgroup='a'\u001b[39;00m\n\u001b[1;32m     52\u001b[0m     ))\n\u001b[1;32m     54\u001b[0m \u001b[38;5;66;03m# Set up the layout\u001b[39;00m\n",
      "\u001b[0;31mIndexError\u001b[0m: list index out of range"
     ]
    }
   ],
   "source": [
    "import plotly.graph_objects as go\n",
    "\n",
    "# Sample data\n",
    "surgery_types = ['Type A', 'Type B', 'Type C', 'Type A', 'Type B', 'Type C']\n",
    "surgery_duration = [\n",
    "    [45, 50, 55, 60, 65, 70], # Type A\n",
    "    [30, 35, 40, 45, 50],     # Type B\n",
    "    [55, 60, 65, 70, 75, 80]  # Type C\n",
    "]\n",
    "procedure_duration = [\n",
    "    [30, 35, 40, 45, 50, 55], # Type A\n",
    "    [25, 30, 35, 40, 45],     # Type B\n",
    "    [50, 55, 60, 65, 70, 75]  # Type C\n",
    "]\n",
    "\n",
    "#! TODO: Attempt 1: try to make this dynamic\n",
    "#+ \n",
    "\n",
    "x_positions = {\n",
    "    'Type A': 1,\n",
    "    'Type B': 3,\n",
    "    'Type C': 5\n",
    "}\n",
    "\n",
    "\n",
    "# Create Box traces\n",
    "traces = []\n",
    "for i, surgery_type in enumerate(surgery_types):\n",
    "    traces.append(go.Box(\n",
    "        y=surgery_duration[i],\n",
    "        x=surgery_types,\n",
    "        # x=[surgery_type] * len(surgery_duration[i]),\n",
    "        name=f'Surgery Duration -  {surgery_type}',\n",
    "        boxpoints='all',\n",
    "        jitter=0.3,\n",
    "        pointpos=-1.8,\n",
    "        marker=dict(color='blue'),\n",
    "        # offsetgroup='surgery',\n",
    "        # alignmentgroup='a'\n",
    "    ))\n",
    "    traces.append(go.Box(\n",
    "        y=procedure_duration[i],\n",
    "        x= surgery_types,\n",
    "        # x=[surgery_type] * len(procedure_duration[i]),\n",
    "        name=f'Procedure Duration - {surgery_type}',\n",
    "        boxpoints='all',\n",
    "        jitter=0.3,\n",
    "        pointpos=-1.8,\n",
    "        marker=dict(color='orange'),\n",
    "        # offsetgroup='procedure',\n",
    "        # alignmentgroup='a'\n",
    "    ))\n",
    "\n",
    "# Set up the layout\n",
    "layout = go.Layout(\n",
    "    title='Surgery and Procedure Duration by Type',\n",
    "    yaxis=dict(title='Duration (minutes)'),\n",
    "    xaxis=dict(title='Surgery Type'),\n",
    "    boxmode='group' # Group boxes together by x-axis category\n",
    ")\n",
    "\n",
    "# Create a Figure object\n",
    "fig = go.Figure(data=traces, layout=layout)\n",
    "\n",
    "# Display the plot\n",
    "fig.show()\n"
   ]
  },
  {
   "cell_type": "markdown",
   "metadata": {},
   "source": [
    "## Trying to replace the for-loops. Makes it unnecessarily difficult IMHO.\n",
    "\n",
    "- Each trace would be a column with a specific duration (procedure, ECC, AoX, DHCA)\n",
    "- Categories should be a list, that is one-on-one withe the y-values (kinda like a zip())\n",
    "- Y-values = minutes/the durations\n",
    "\n",
    "Note to self:\n",
    "- it almost looks like it would be easier to have the data not stored in columns, but in a huge list like HDP."
   ]
  },
  {
   "cell_type": "markdown",
   "metadata": {},
   "source": [
    "## OG code"
   ]
  },
  {
   "cell_type": "code",
   "execution_count": 40,
   "metadata": {},
   "outputs": [
    {
     "data": {
      "application/vnd.plotly.v1+json": {
       "config": {
        "plotlyServerURL": "https://plot.ly"
       },
       "data": [
        {
         "marker": {
          "color": "#3D9970"
         },
         "name": "kale",
         "type": "box",
         "x": [
          "day 1",
          "day 1",
          "day 1",
          "day 1",
          "day 1",
          "day 1",
          "day 2",
          "day 2",
          "day 2",
          "day 2",
          "day 2",
          "day 2"
         ],
         "y": [
          0.2,
          0.2,
          0.6,
          1,
          0.5,
          0.4,
          0.2,
          0.7,
          0.9,
          0.1,
          0.5,
          0.3
         ]
        },
        {
         "marker": {
          "color": "#FF4136"
         },
         "name": "radishes",
         "type": "box",
         "x": [
          "day 1",
          "day 1",
          "day 1",
          "day 1",
          "day 1",
          "day 1",
          "day 2",
          "day 2",
          "day 2",
          "day 2",
          "day 2",
          "day 2"
         ],
         "y": [
          0.6,
          0.7,
          0.3,
          0.6,
          0,
          0.5,
          0.7,
          0.9,
          0.5,
          0.8,
          0.7,
          0.2
         ]
        },
        {
         "marker": {
          "color": "#FF851B"
         },
         "name": "carrots",
         "type": "box",
         "x": [
          "day 1",
          "day 1",
          "day 1",
          "day 1",
          "day 1",
          "day 1",
          "day 2",
          "day 2",
          "day 2",
          "day 2",
          "day 2",
          "day 2"
         ],
         "y": [
          0.1,
          0.3,
          0.1,
          0.9,
          0.6,
          0.6,
          0.9,
          1,
          0.3,
          0.6,
          0.8,
          0.5
         ]
        }
       ],
       "layout": {
        "boxmode": "group",
        "template": {
         "data": {
          "bar": [
           {
            "error_x": {
             "color": "#2a3f5f"
            },
            "error_y": {
             "color": "#2a3f5f"
            },
            "marker": {
             "line": {
              "color": "#E5ECF6",
              "width": 0.5
             },
             "pattern": {
              "fillmode": "overlay",
              "size": 10,
              "solidity": 0.2
             }
            },
            "type": "bar"
           }
          ],
          "barpolar": [
           {
            "marker": {
             "line": {
              "color": "#E5ECF6",
              "width": 0.5
             },
             "pattern": {
              "fillmode": "overlay",
              "size": 10,
              "solidity": 0.2
             }
            },
            "type": "barpolar"
           }
          ],
          "carpet": [
           {
            "aaxis": {
             "endlinecolor": "#2a3f5f",
             "gridcolor": "white",
             "linecolor": "white",
             "minorgridcolor": "white",
             "startlinecolor": "#2a3f5f"
            },
            "baxis": {
             "endlinecolor": "#2a3f5f",
             "gridcolor": "white",
             "linecolor": "white",
             "minorgridcolor": "white",
             "startlinecolor": "#2a3f5f"
            },
            "type": "carpet"
           }
          ],
          "choropleth": [
           {
            "colorbar": {
             "outlinewidth": 0,
             "ticks": ""
            },
            "type": "choropleth"
           }
          ],
          "contour": [
           {
            "colorbar": {
             "outlinewidth": 0,
             "ticks": ""
            },
            "colorscale": [
             [
              0,
              "#0d0887"
             ],
             [
              0.1111111111111111,
              "#46039f"
             ],
             [
              0.2222222222222222,
              "#7201a8"
             ],
             [
              0.3333333333333333,
              "#9c179e"
             ],
             [
              0.4444444444444444,
              "#bd3786"
             ],
             [
              0.5555555555555556,
              "#d8576b"
             ],
             [
              0.6666666666666666,
              "#ed7953"
             ],
             [
              0.7777777777777778,
              "#fb9f3a"
             ],
             [
              0.8888888888888888,
              "#fdca26"
             ],
             [
              1,
              "#f0f921"
             ]
            ],
            "type": "contour"
           }
          ],
          "contourcarpet": [
           {
            "colorbar": {
             "outlinewidth": 0,
             "ticks": ""
            },
            "type": "contourcarpet"
           }
          ],
          "heatmap": [
           {
            "colorbar": {
             "outlinewidth": 0,
             "ticks": ""
            },
            "colorscale": [
             [
              0,
              "#0d0887"
             ],
             [
              0.1111111111111111,
              "#46039f"
             ],
             [
              0.2222222222222222,
              "#7201a8"
             ],
             [
              0.3333333333333333,
              "#9c179e"
             ],
             [
              0.4444444444444444,
              "#bd3786"
             ],
             [
              0.5555555555555556,
              "#d8576b"
             ],
             [
              0.6666666666666666,
              "#ed7953"
             ],
             [
              0.7777777777777778,
              "#fb9f3a"
             ],
             [
              0.8888888888888888,
              "#fdca26"
             ],
             [
              1,
              "#f0f921"
             ]
            ],
            "type": "heatmap"
           }
          ],
          "heatmapgl": [
           {
            "colorbar": {
             "outlinewidth": 0,
             "ticks": ""
            },
            "colorscale": [
             [
              0,
              "#0d0887"
             ],
             [
              0.1111111111111111,
              "#46039f"
             ],
             [
              0.2222222222222222,
              "#7201a8"
             ],
             [
              0.3333333333333333,
              "#9c179e"
             ],
             [
              0.4444444444444444,
              "#bd3786"
             ],
             [
              0.5555555555555556,
              "#d8576b"
             ],
             [
              0.6666666666666666,
              "#ed7953"
             ],
             [
              0.7777777777777778,
              "#fb9f3a"
             ],
             [
              0.8888888888888888,
              "#fdca26"
             ],
             [
              1,
              "#f0f921"
             ]
            ],
            "type": "heatmapgl"
           }
          ],
          "histogram": [
           {
            "marker": {
             "pattern": {
              "fillmode": "overlay",
              "size": 10,
              "solidity": 0.2
             }
            },
            "type": "histogram"
           }
          ],
          "histogram2d": [
           {
            "colorbar": {
             "outlinewidth": 0,
             "ticks": ""
            },
            "colorscale": [
             [
              0,
              "#0d0887"
             ],
             [
              0.1111111111111111,
              "#46039f"
             ],
             [
              0.2222222222222222,
              "#7201a8"
             ],
             [
              0.3333333333333333,
              "#9c179e"
             ],
             [
              0.4444444444444444,
              "#bd3786"
             ],
             [
              0.5555555555555556,
              "#d8576b"
             ],
             [
              0.6666666666666666,
              "#ed7953"
             ],
             [
              0.7777777777777778,
              "#fb9f3a"
             ],
             [
              0.8888888888888888,
              "#fdca26"
             ],
             [
              1,
              "#f0f921"
             ]
            ],
            "type": "histogram2d"
           }
          ],
          "histogram2dcontour": [
           {
            "colorbar": {
             "outlinewidth": 0,
             "ticks": ""
            },
            "colorscale": [
             [
              0,
              "#0d0887"
             ],
             [
              0.1111111111111111,
              "#46039f"
             ],
             [
              0.2222222222222222,
              "#7201a8"
             ],
             [
              0.3333333333333333,
              "#9c179e"
             ],
             [
              0.4444444444444444,
              "#bd3786"
             ],
             [
              0.5555555555555556,
              "#d8576b"
             ],
             [
              0.6666666666666666,
              "#ed7953"
             ],
             [
              0.7777777777777778,
              "#fb9f3a"
             ],
             [
              0.8888888888888888,
              "#fdca26"
             ],
             [
              1,
              "#f0f921"
             ]
            ],
            "type": "histogram2dcontour"
           }
          ],
          "mesh3d": [
           {
            "colorbar": {
             "outlinewidth": 0,
             "ticks": ""
            },
            "type": "mesh3d"
           }
          ],
          "parcoords": [
           {
            "line": {
             "colorbar": {
              "outlinewidth": 0,
              "ticks": ""
             }
            },
            "type": "parcoords"
           }
          ],
          "pie": [
           {
            "automargin": true,
            "type": "pie"
           }
          ],
          "scatter": [
           {
            "fillpattern": {
             "fillmode": "overlay",
             "size": 10,
             "solidity": 0.2
            },
            "type": "scatter"
           }
          ],
          "scatter3d": [
           {
            "line": {
             "colorbar": {
              "outlinewidth": 0,
              "ticks": ""
             }
            },
            "marker": {
             "colorbar": {
              "outlinewidth": 0,
              "ticks": ""
             }
            },
            "type": "scatter3d"
           }
          ],
          "scattercarpet": [
           {
            "marker": {
             "colorbar": {
              "outlinewidth": 0,
              "ticks": ""
             }
            },
            "type": "scattercarpet"
           }
          ],
          "scattergeo": [
           {
            "marker": {
             "colorbar": {
              "outlinewidth": 0,
              "ticks": ""
             }
            },
            "type": "scattergeo"
           }
          ],
          "scattergl": [
           {
            "marker": {
             "colorbar": {
              "outlinewidth": 0,
              "ticks": ""
             }
            },
            "type": "scattergl"
           }
          ],
          "scattermapbox": [
           {
            "marker": {
             "colorbar": {
              "outlinewidth": 0,
              "ticks": ""
             }
            },
            "type": "scattermapbox"
           }
          ],
          "scatterpolar": [
           {
            "marker": {
             "colorbar": {
              "outlinewidth": 0,
              "ticks": ""
             }
            },
            "type": "scatterpolar"
           }
          ],
          "scatterpolargl": [
           {
            "marker": {
             "colorbar": {
              "outlinewidth": 0,
              "ticks": ""
             }
            },
            "type": "scatterpolargl"
           }
          ],
          "scatterternary": [
           {
            "marker": {
             "colorbar": {
              "outlinewidth": 0,
              "ticks": ""
             }
            },
            "type": "scatterternary"
           }
          ],
          "surface": [
           {
            "colorbar": {
             "outlinewidth": 0,
             "ticks": ""
            },
            "colorscale": [
             [
              0,
              "#0d0887"
             ],
             [
              0.1111111111111111,
              "#46039f"
             ],
             [
              0.2222222222222222,
              "#7201a8"
             ],
             [
              0.3333333333333333,
              "#9c179e"
             ],
             [
              0.4444444444444444,
              "#bd3786"
             ],
             [
              0.5555555555555556,
              "#d8576b"
             ],
             [
              0.6666666666666666,
              "#ed7953"
             ],
             [
              0.7777777777777778,
              "#fb9f3a"
             ],
             [
              0.8888888888888888,
              "#fdca26"
             ],
             [
              1,
              "#f0f921"
             ]
            ],
            "type": "surface"
           }
          ],
          "table": [
           {
            "cells": {
             "fill": {
              "color": "#EBF0F8"
             },
             "line": {
              "color": "white"
             }
            },
            "header": {
             "fill": {
              "color": "#C8D4E3"
             },
             "line": {
              "color": "white"
             }
            },
            "type": "table"
           }
          ]
         },
         "layout": {
          "annotationdefaults": {
           "arrowcolor": "#2a3f5f",
           "arrowhead": 0,
           "arrowwidth": 1
          },
          "autotypenumbers": "strict",
          "coloraxis": {
           "colorbar": {
            "outlinewidth": 0,
            "ticks": ""
           }
          },
          "colorscale": {
           "diverging": [
            [
             0,
             "#8e0152"
            ],
            [
             0.1,
             "#c51b7d"
            ],
            [
             0.2,
             "#de77ae"
            ],
            [
             0.3,
             "#f1b6da"
            ],
            [
             0.4,
             "#fde0ef"
            ],
            [
             0.5,
             "#f7f7f7"
            ],
            [
             0.6,
             "#e6f5d0"
            ],
            [
             0.7,
             "#b8e186"
            ],
            [
             0.8,
             "#7fbc41"
            ],
            [
             0.9,
             "#4d9221"
            ],
            [
             1,
             "#276419"
            ]
           ],
           "sequential": [
            [
             0,
             "#0d0887"
            ],
            [
             0.1111111111111111,
             "#46039f"
            ],
            [
             0.2222222222222222,
             "#7201a8"
            ],
            [
             0.3333333333333333,
             "#9c179e"
            ],
            [
             0.4444444444444444,
             "#bd3786"
            ],
            [
             0.5555555555555556,
             "#d8576b"
            ],
            [
             0.6666666666666666,
             "#ed7953"
            ],
            [
             0.7777777777777778,
             "#fb9f3a"
            ],
            [
             0.8888888888888888,
             "#fdca26"
            ],
            [
             1,
             "#f0f921"
            ]
           ],
           "sequentialminus": [
            [
             0,
             "#0d0887"
            ],
            [
             0.1111111111111111,
             "#46039f"
            ],
            [
             0.2222222222222222,
             "#7201a8"
            ],
            [
             0.3333333333333333,
             "#9c179e"
            ],
            [
             0.4444444444444444,
             "#bd3786"
            ],
            [
             0.5555555555555556,
             "#d8576b"
            ],
            [
             0.6666666666666666,
             "#ed7953"
            ],
            [
             0.7777777777777778,
             "#fb9f3a"
            ],
            [
             0.8888888888888888,
             "#fdca26"
            ],
            [
             1,
             "#f0f921"
            ]
           ]
          },
          "colorway": [
           "#636efa",
           "#EF553B",
           "#00cc96",
           "#ab63fa",
           "#FFA15A",
           "#19d3f3",
           "#FF6692",
           "#B6E880",
           "#FF97FF",
           "#FECB52"
          ],
          "font": {
           "color": "#2a3f5f"
          },
          "geo": {
           "bgcolor": "white",
           "lakecolor": "white",
           "landcolor": "#E5ECF6",
           "showlakes": true,
           "showland": true,
           "subunitcolor": "white"
          },
          "hoverlabel": {
           "align": "left"
          },
          "hovermode": "closest",
          "mapbox": {
           "style": "light"
          },
          "paper_bgcolor": "white",
          "plot_bgcolor": "#E5ECF6",
          "polar": {
           "angularaxis": {
            "gridcolor": "white",
            "linecolor": "white",
            "ticks": ""
           },
           "bgcolor": "#E5ECF6",
           "radialaxis": {
            "gridcolor": "white",
            "linecolor": "white",
            "ticks": ""
           }
          },
          "scene": {
           "xaxis": {
            "backgroundcolor": "#E5ECF6",
            "gridcolor": "white",
            "gridwidth": 2,
            "linecolor": "white",
            "showbackground": true,
            "ticks": "",
            "zerolinecolor": "white"
           },
           "yaxis": {
            "backgroundcolor": "#E5ECF6",
            "gridcolor": "white",
            "gridwidth": 2,
            "linecolor": "white",
            "showbackground": true,
            "ticks": "",
            "zerolinecolor": "white"
           },
           "zaxis": {
            "backgroundcolor": "#E5ECF6",
            "gridcolor": "white",
            "gridwidth": 2,
            "linecolor": "white",
            "showbackground": true,
            "ticks": "",
            "zerolinecolor": "white"
           }
          },
          "shapedefaults": {
           "line": {
            "color": "#2a3f5f"
           }
          },
          "ternary": {
           "aaxis": {
            "gridcolor": "white",
            "linecolor": "white",
            "ticks": ""
           },
           "baxis": {
            "gridcolor": "white",
            "linecolor": "white",
            "ticks": ""
           },
           "bgcolor": "#E5ECF6",
           "caxis": {
            "gridcolor": "white",
            "linecolor": "white",
            "ticks": ""
           }
          },
          "title": {
           "x": 0.05
          },
          "xaxis": {
           "automargin": true,
           "gridcolor": "white",
           "linecolor": "white",
           "ticks": "",
           "title": {
            "standoff": 15
           },
           "zerolinecolor": "white",
           "zerolinewidth": 2
          },
          "yaxis": {
           "automargin": true,
           "gridcolor": "white",
           "linecolor": "white",
           "ticks": "",
           "title": {
            "standoff": 15
           },
           "zerolinecolor": "white",
           "zerolinewidth": 2
          }
         }
        },
        "yaxis": {
         "title": {
          "text": "normalized moisture"
         }
        }
       }
      }
     },
     "metadata": {},
     "output_type": "display_data"
    }
   ],
   "source": [
    "\n",
    "import plotly.graph_objects as go\n",
    "\n",
    "x = ['day 1', 'day 1', 'day 1', 'day 1', 'day 1', 'day 1',\n",
    "     'day 2', 'day 2', 'day 2', 'day 2', 'day 2', 'day 2']\n",
    "\n",
    "fig = go.Figure()\n",
    "\n",
    "fig.add_trace(go.Box(\n",
    "    y=[0.2, 0.2, 0.6, 1.0, 0.5, 0.4, 0.2, 0.7, 0.9, 0.1, 0.5, 0.3],\n",
    "    x=x,\n",
    "    name='kale',\n",
    "    marker_color='#3D9970'\n",
    "))\n",
    "fig.add_trace(go.Box(\n",
    "    y=[0.6, 0.7, 0.3, 0.6, 0.0, 0.5, 0.7, 0.9, 0.5, 0.8, 0.7, 0.2],\n",
    "    x=x,\n",
    "    name='radishes',\n",
    "    marker_color='#FF4136'\n",
    "))\n",
    "fig.add_trace(go.Box(\n",
    "    y=[0.1, 0.3, 0.1, 0.9, 0.6, 0.6, 0.9, 1.0, 0.3, 0.6, 0.8, 0.5],\n",
    "    x=x,\n",
    "    name='carrots',\n",
    "    marker_color='#FF851B'\n",
    "))\n",
    "\n",
    "fig.update_layout(\n",
    "    yaxis_title='normalized moisture',\n",
    "    boxmode='group' # group together boxes of the different traces for each value of x\n",
    ")\n",
    "fig.show()"
   ]
  },
  {
   "cell_type": "markdown",
   "metadata": {},
   "source": [
    "### Get impression of data for generating functions for boxplots"
   ]
  },
  {
   "cell_type": "code",
   "execution_count": 6,
   "metadata": {},
   "outputs": [],
   "source": [
    "import pandas as pd \n",
    "\n",
    "df = pd.read_csv('../data/processed/20240603_data_processed.csv')"
   ]
  },
  {
   "cell_type": "markdown",
   "metadata": {},
   "source": [
    "## Start adaptation for our usecase"
   ]
  },
  {
   "cell_type": "code",
   "execution_count": 16,
   "metadata": {},
   "outputs": [
    {
     "name": "stdout",
     "output_type": "stream",
     "text": [
      "1184\n",
      "1184\n",
      "1184\n",
      "1184\n"
     ]
    },
    {
     "data": {
      "application/vnd.plotly.v1+json": {
       "config": {
        "plotlyServerURL": "https://plot.ly"
       },
       "data": [
        {
         "boxpoints": "all",
         "marker": {
          "color": "#4e8ca9"
         },
         "name": "procedure_duration",
         "type": "box",
         "x": [
          "Norwood",
          "Norwood",
          "Norwood",
          "Norwood",
          "Norwood",
          "Norwood",
          "Norwood",
          "Norwood",
          "Norwood",
          "Norwood",
          "Norwood",
          "Norwood",
          "Norwood",
          "Norwood",
          "Norwood",
          "Norwood",
          "Norwood",
          "Norwood",
          "Norwood",
          "Norwood",
          "Norwood",
          "Norwood",
          "Norwood",
          "Norwood",
          "Norwood",
          "Norwood",
          "Norwood",
          "Norwood",
          "Norwood",
          "Norwood",
          "Norwood",
          "Norwood",
          "Norwood",
          "Glenn",
          "Glenn",
          "Glenn",
          "Glenn",
          "Glenn",
          "Glenn",
          "Adapted Fontan",
          "Adapted Fontan",
          "Adapted Fontan",
          "Adapted Fontan",
          "Adapted Fontan",
          "Adapted Fontan",
          "Adapted Fontan",
          "Adapted Fontan",
          "Adapted Fontan",
          "Adapted Fontan",
          "Adapted Fontan",
          "Adapted Fontan",
          "Adapted Fontan",
          "Adapted Fontan",
          "Adapted Fontan",
          "Adapted Fontan",
          "Adapted Fontan",
          "Adapted Fontan",
          "Adapted Fontan",
          "Adapted Fontan",
          "Adapted Fontan",
          "Adapted Fontan",
          "Adapted Fontan",
          "Adapted Fontan",
          "Adapted Fontan",
          "Adapted Fontan",
          "Adapted Fontan",
          "Adapted Fontan",
          "Adapted Fontan",
          "Adapted Fontan",
          "Adapted Fontan",
          "Adapted Fontan",
          "Adapted Fontan",
          "Adapted Fontan",
          "Adapted Fontan",
          "Adapted Fontan",
          "Adapted Fontan",
          "Adapted Fontan",
          "Adapted Fontan",
          "Adapted Fontan",
          "Adapted Fontan",
          "Adapted Fontan",
          "Adapted Fontan",
          "Adapted Fontan",
          "Adapted Fontan",
          "Adapted Fontan",
          "Adapted Fontan",
          "Adapted Fontan",
          "Adapted Fontan",
          "Adapted Fontan",
          "Adapted Fontan",
          "Adapted Fontan",
          "Adapted Fontan",
          "Adapted Fontan",
          "ECMO",
          "ECMO",
          "ECMO",
          "ECMO",
          "ECMO",
          "ECMO",
          "ECMO",
          "ECMO",
          "ECMO",
          "ECMO",
          "ECMO",
          "ECMO",
          "ECMO",
          "ECMO",
          "ECMO",
          "ECMO",
          "ECMO",
          "ECMO",
          "ECMO",
          "ECMO",
          "ECMO",
          "ECMO",
          "ECMO",
          "ECMO",
          "ECMO",
          "ECMO",
          "ECMO",
          "ECMO",
          "ECMO",
          "ECMO",
          "ECMO",
          "ECMO",
          "ECMO",
          "ECMO",
          "ECMO",
          "ECMO",
          "ECMO",
          "ECMO",
          "ECMO",
          "ECMO",
          "ECMO",
          "ECMO",
          "ECMO",
          "ECMO",
          "ECMO",
          "ECMO",
          "ECMO",
          "ECMO",
          "ECMO",
          "ECMO",
          "ECMO",
          "ECMO",
          "ECMO",
          "ECMO",
          "ECMO"
         ],
         "y": [
          521,
          336,
          526,
          605,
          372,
          257,
          496,
          312,
          470,
          416,
          594,
          436,
          281,
          416,
          391,
          331,
          420,
          300,
          450,
          280,
          812,
          395,
          439,
          335,
          588,
          714,
          330,
          544,
          401,
          363,
          467,
          658,
          370,
          195,
          241,
          198,
          214,
          190,
          284,
          175,
          217,
          220,
          295,
          229,
          277,
          275,
          326,
          294,
          212,
          626,
          163,
          264,
          252,
          241,
          244,
          251,
          182,
          193,
          369,
          313,
          435,
          150,
          243,
          206,
          185,
          159,
          176,
          156,
          125,
          110,
          270,
          220,
          280,
          150,
          205,
          193,
          142,
          170,
          192,
          145,
          197,
          445,
          231,
          135,
          258,
          200,
          207,
          256,
          170,
          324,
          295,
          306,
          210,
          376,
          177,
          287,
          118,
          264,
          137,
          30,
          242,
          303,
          233,
          162,
          158,
          122,
          347,
          180,
          197,
          170,
          272,
          154,
          270,
          67,
          169,
          221,
          525,
          303,
          192,
          214,
          185,
          257,
          187,
          269,
          124,
          292,
          415,
          124,
          267,
          440,
          327,
          148,
          213,
          249,
          190,
          116,
          243,
          47,
          245,
          313,
          244,
          404,
          152,
          229,
          251,
          326,
          660,
          426
         ]
        },
        {
         "boxpoints": "all",
         "marker": {
          "color": "#D18E46"
         },
         "name": "ECC_duration",
         "type": "box",
         "x": [
          "Norwood",
          "Norwood",
          "Norwood",
          "Norwood",
          "Norwood",
          "Norwood",
          "Norwood",
          "Norwood",
          "Norwood",
          "Norwood",
          "Norwood",
          "Norwood",
          "Norwood",
          "Norwood",
          "Norwood",
          "Norwood",
          "Norwood",
          "Norwood",
          "Norwood",
          "Norwood",
          "Norwood",
          "Norwood",
          "Norwood",
          "Norwood",
          "Norwood",
          "Norwood",
          "Norwood",
          "Norwood",
          "Norwood",
          "Norwood",
          "Norwood",
          "Norwood",
          "Norwood",
          "Glenn",
          "Glenn",
          "Glenn",
          "Glenn",
          "Glenn",
          "Glenn",
          "Adapted Fontan",
          "Adapted Fontan",
          "Adapted Fontan",
          "Adapted Fontan",
          "Adapted Fontan",
          "Adapted Fontan",
          "Adapted Fontan",
          "Adapted Fontan",
          "Adapted Fontan",
          "Adapted Fontan",
          "Adapted Fontan",
          "Adapted Fontan",
          "Adapted Fontan",
          "Adapted Fontan",
          "Adapted Fontan",
          "Adapted Fontan",
          "Adapted Fontan",
          "Adapted Fontan",
          "Adapted Fontan",
          "Adapted Fontan",
          "Adapted Fontan",
          "Adapted Fontan",
          "Adapted Fontan",
          "Adapted Fontan",
          "Adapted Fontan",
          "Adapted Fontan",
          "Adapted Fontan",
          "Adapted Fontan",
          "Adapted Fontan",
          "Adapted Fontan",
          "Adapted Fontan",
          "Adapted Fontan",
          "Adapted Fontan",
          "Adapted Fontan",
          "Adapted Fontan",
          "Adapted Fontan",
          "Adapted Fontan",
          "Adapted Fontan",
          "Adapted Fontan",
          "Adapted Fontan",
          "Adapted Fontan",
          "Adapted Fontan",
          "Adapted Fontan",
          "Adapted Fontan",
          "Adapted Fontan",
          "Adapted Fontan",
          "Adapted Fontan",
          "Adapted Fontan",
          "Adapted Fontan",
          "Adapted Fontan",
          "Adapted Fontan",
          "Adapted Fontan",
          "Adapted Fontan",
          "Adapted Fontan",
          "ECMO",
          "ECMO",
          "ECMO",
          "ECMO",
          "ECMO",
          "ECMO",
          "ECMO",
          "ECMO",
          "ECMO",
          "ECMO",
          "ECMO",
          "ECMO",
          "ECMO",
          "ECMO",
          "ECMO",
          "ECMO",
          "ECMO",
          "ECMO",
          "ECMO",
          "ECMO",
          "ECMO",
          "ECMO",
          "ECMO",
          "ECMO",
          "ECMO",
          "ECMO",
          "ECMO",
          "ECMO",
          "ECMO",
          "ECMO",
          "ECMO",
          "ECMO",
          "ECMO",
          "ECMO",
          "ECMO",
          "ECMO",
          "ECMO",
          "ECMO",
          "ECMO",
          "ECMO",
          "ECMO",
          "ECMO",
          "ECMO",
          "ECMO",
          "ECMO",
          "ECMO",
          "ECMO",
          "ECMO",
          "ECMO",
          "ECMO",
          "ECMO",
          "ECMO",
          "ECMO",
          "ECMO",
          "ECMO"
         ],
         "y": [
          312,
          186,
          282,
          451,
          243,
          201,
          281,
          209,
          334,
          273,
          400,
          237,
          189,
          261,
          254,
          211,
          276,
          172,
          228,
          186,
          642,
          315,
          258,
          177,
          265,
          397,
          200,
          310,
          212,
          202,
          288,
          494,
          252,
          52,
          63,
          118,
          84,
          76,
          141,
          92,
          109,
          125,
          116,
          95,
          115,
          115,
          196,
          119,
          46,
          395,
          0,
          130,
          131,
          101,
          96,
          116,
          76,
          90,
          209,
          124,
          202,
          63,
          125,
          82,
          80,
          80,
          102,
          71,
          53,
          34,
          103,
          75,
          145,
          70,
          88,
          92,
          82,
          0,
          77,
          44,
          84,
          208,
          131,
          53,
          80,
          104,
          181,
          77,
          56,
          127,
          138,
          132,
          115,
          211,
          91,
          92,
          50,
          135,
          83,
          0,
          118,
          200,
          135,
          85,
          94,
          66,
          235,
          109,
          96,
          98,
          162,
          52,
          141,
          0,
          97,
          128,
          285,
          128,
          99,
          124,
          101,
          169,
          81,
          185,
          68,
          168,
          180,
          53,
          82,
          321,
          133,
          0,
          87,
          74,
          129,
          57,
          82,
          0,
          142,
          69,
          92,
          228,
          65,
          92,
          79,
          124,
          499,
          213
         ]
        },
        {
         "boxpoints": "all",
         "marker": {
          "color": "#5BB6AB"
         },
         "name": "AOX_duration",
         "type": "box",
         "x": [
          "Norwood",
          "Norwood",
          "Norwood",
          "Norwood",
          "Norwood",
          "Norwood",
          "Norwood",
          "Norwood",
          "Norwood",
          "Norwood",
          "Norwood",
          "Norwood",
          "Norwood",
          "Norwood",
          "Norwood",
          "Norwood",
          "Norwood",
          "Norwood",
          "Norwood",
          "Norwood",
          "Norwood",
          "Norwood",
          "Norwood",
          "Norwood",
          "Norwood",
          "Norwood",
          "Norwood",
          "Norwood",
          "Norwood",
          "Norwood",
          "Norwood",
          "Norwood",
          "Norwood",
          "Glenn",
          "Glenn",
          "Glenn",
          "Glenn",
          "Glenn",
          "Glenn",
          "Adapted Fontan",
          "Adapted Fontan",
          "Adapted Fontan",
          "Adapted Fontan",
          "Adapted Fontan",
          "Adapted Fontan",
          "Adapted Fontan",
          "Adapted Fontan",
          "Adapted Fontan",
          "Adapted Fontan",
          "Adapted Fontan",
          "Adapted Fontan",
          "Adapted Fontan",
          "Adapted Fontan",
          "Adapted Fontan",
          "Adapted Fontan",
          "Adapted Fontan",
          "Adapted Fontan",
          "Adapted Fontan",
          "Adapted Fontan",
          "Adapted Fontan",
          "Adapted Fontan",
          "Adapted Fontan",
          "Adapted Fontan",
          "Adapted Fontan",
          "Adapted Fontan",
          "Adapted Fontan",
          "Adapted Fontan",
          "Adapted Fontan",
          "Adapted Fontan",
          "Adapted Fontan",
          "Adapted Fontan",
          "Adapted Fontan",
          "Adapted Fontan",
          "Adapted Fontan",
          "Adapted Fontan",
          "Adapted Fontan",
          "Adapted Fontan",
          "Adapted Fontan",
          "Adapted Fontan",
          "Adapted Fontan",
          "Adapted Fontan",
          "Adapted Fontan",
          "Adapted Fontan",
          "Adapted Fontan",
          "Adapted Fontan",
          "Adapted Fontan",
          "Adapted Fontan",
          "Adapted Fontan",
          "Adapted Fontan",
          "Adapted Fontan",
          "Adapted Fontan",
          "Adapted Fontan",
          "Adapted Fontan",
          "ECMO",
          "ECMO",
          "ECMO",
          "ECMO",
          "ECMO",
          "ECMO",
          "ECMO",
          "ECMO",
          "ECMO",
          "ECMO",
          "ECMO",
          "ECMO",
          "ECMO",
          "ECMO",
          "ECMO",
          "ECMO",
          "ECMO",
          "ECMO",
          "ECMO",
          "ECMO",
          "ECMO",
          "ECMO",
          "ECMO",
          "ECMO",
          "ECMO",
          "ECMO",
          "ECMO",
          "ECMO",
          "ECMO",
          "ECMO",
          "ECMO",
          "ECMO",
          "ECMO",
          "ECMO",
          "ECMO",
          "ECMO",
          "ECMO",
          "ECMO",
          "ECMO",
          "ECMO",
          "ECMO",
          "ECMO",
          "ECMO",
          "ECMO",
          "ECMO",
          "ECMO",
          "ECMO",
          "ECMO",
          "ECMO",
          "ECMO",
          "ECMO",
          "ECMO",
          "ECMO",
          "ECMO",
          "ECMO"
         ],
         "y": [
          71,
          44,
          0,
          69,
          110,
          38,
          66,
          98,
          56,
          81,
          122,
          75,
          83,
          129,
          82,
          54,
          99,
          50,
          81,
          67,
          0,
          129,
          112,
          55,
          112,
          127,
          75,
          115,
          70,
          89,
          118,
          141,
          56,
          0,
          0,
          42,
          0,
          33,
          0,
          54,
          56,
          61,
          74,
          50,
          84,
          53,
          107,
          84,
          0,
          62,
          0,
          90,
          69,
          59,
          53,
          70,
          8,
          51,
          59,
          0,
          0,
          0,
          73,
          50,
          62,
          47,
          60,
          46,
          30,
          0,
          67,
          0,
          65,
          36,
          57,
          63,
          0,
          0,
          50,
          0,
          0,
          126,
          70,
          0,
          0,
          64,
          83,
          0,
          0,
          0,
          72,
          81,
          60,
          151,
          0,
          10,
          35,
          83,
          0,
          0,
          64,
          0,
          89,
          50,
          61,
          27,
          0,
          88,
          69,
          54,
          122,
          0,
          112,
          0,
          63,
          40,
          175,
          99,
          68,
          62,
          72,
          128,
          49,
          146,
          39,
          52,
          75,
          0,
          21,
          135,
          0,
          0,
          0,
          50,
          63,
          29,
          0,
          0,
          102,
          0,
          0,
          140,
          0,
          79,
          0,
          0,
          0,
          99
         ]
        },
        {
         "boxpoints": "all",
         "marker": {
          "color": "#A6CFDF"
         },
         "name": "DHCA_duration",
         "type": "box",
         "x": [
          "Norwood",
          "Norwood",
          "Norwood",
          "Norwood",
          "Norwood",
          "Norwood",
          "Norwood",
          "Norwood",
          "Norwood",
          "Norwood",
          "Norwood",
          "Norwood",
          "Norwood",
          "Norwood",
          "Norwood",
          "Norwood",
          "Norwood",
          "Norwood",
          "Norwood",
          "Norwood",
          "Norwood",
          "Norwood",
          "Norwood",
          "Norwood",
          "Norwood",
          "Norwood",
          "Norwood",
          "Norwood",
          "Norwood",
          "Norwood",
          "Norwood",
          "Norwood",
          "Norwood",
          "Glenn",
          "Glenn",
          "Glenn",
          "Glenn",
          "Glenn",
          "Glenn",
          "Adapted Fontan",
          "Adapted Fontan",
          "Adapted Fontan",
          "Adapted Fontan",
          "Adapted Fontan",
          "Adapted Fontan",
          "Adapted Fontan",
          "Adapted Fontan",
          "Adapted Fontan",
          "Adapted Fontan",
          "Adapted Fontan",
          "Adapted Fontan",
          "Adapted Fontan",
          "Adapted Fontan",
          "Adapted Fontan",
          "Adapted Fontan",
          "Adapted Fontan",
          "Adapted Fontan",
          "Adapted Fontan",
          "Adapted Fontan",
          "Adapted Fontan",
          "Adapted Fontan",
          "Adapted Fontan",
          "Adapted Fontan",
          "Adapted Fontan",
          "Adapted Fontan",
          "Adapted Fontan",
          "Adapted Fontan",
          "Adapted Fontan",
          "Adapted Fontan",
          "Adapted Fontan",
          "Adapted Fontan",
          "Adapted Fontan",
          "Adapted Fontan",
          "Adapted Fontan",
          "Adapted Fontan",
          "Adapted Fontan",
          "Adapted Fontan",
          "Adapted Fontan",
          "Adapted Fontan",
          "Adapted Fontan",
          "Adapted Fontan",
          "Adapted Fontan",
          "Adapted Fontan",
          "Adapted Fontan",
          "Adapted Fontan",
          "Adapted Fontan",
          "Adapted Fontan",
          "Adapted Fontan",
          "Adapted Fontan",
          "Adapted Fontan",
          "Adapted Fontan",
          "Adapted Fontan",
          "Adapted Fontan",
          "ECMO",
          "ECMO",
          "ECMO",
          "ECMO",
          "ECMO",
          "ECMO",
          "ECMO",
          "ECMO",
          "ECMO",
          "ECMO",
          "ECMO",
          "ECMO",
          "ECMO",
          "ECMO",
          "ECMO",
          "ECMO",
          "ECMO",
          "ECMO",
          "ECMO",
          "ECMO",
          "ECMO",
          "ECMO",
          "ECMO",
          "ECMO",
          "ECMO",
          "ECMO",
          "ECMO",
          "ECMO",
          "ECMO",
          "ECMO",
          "ECMO",
          "ECMO",
          "ECMO",
          "ECMO",
          "ECMO",
          "ECMO",
          "ECMO",
          "ECMO",
          "ECMO",
          "ECMO",
          "ECMO",
          "ECMO",
          "ECMO",
          "ECMO",
          "ECMO",
          "ECMO",
          "ECMO",
          "ECMO",
          "ECMO",
          "ECMO",
          "ECMO",
          "ECMO",
          "ECMO",
          "ECMO",
          "ECMO"
         ],
         "y": [
          71,
          53,
          83,
          62,
          56,
          20,
          66,
          55,
          66,
          81,
          118,
          75,
          61,
          100,
          76,
          50,
          97,
          43,
          82,
          68,
          134,
          0,
          111,
          51,
          106,
          126,
          83,
          111,
          62,
          88,
          116,
          138,
          56,
          0,
          0,
          0,
          0,
          0,
          0,
          0,
          0,
          0,
          0,
          0,
          0,
          0,
          0,
          0,
          0,
          0,
          0,
          0,
          0,
          0,
          0,
          0,
          0,
          0,
          0,
          0,
          0,
          0,
          0,
          0,
          0,
          0,
          0,
          0,
          0,
          0,
          0,
          0,
          0,
          0,
          0,
          0,
          0,
          0,
          0,
          0,
          0,
          0,
          0,
          0,
          0,
          0,
          0,
          0,
          0,
          0,
          0,
          0,
          0,
          0,
          0,
          0,
          0,
          0,
          0,
          0,
          0,
          0,
          0,
          0,
          0,
          0,
          80,
          0,
          0,
          0,
          0,
          0,
          0,
          0,
          0,
          0,
          0,
          0,
          0,
          0,
          0,
          0,
          0,
          0,
          0,
          46,
          0,
          0,
          0,
          0,
          0,
          0,
          0,
          0,
          0,
          0,
          0,
          0,
          0,
          0,
          0,
          15,
          0,
          0,
          0,
          0,
          0,
          0
         ]
        }
       ],
       "layout": {
        "boxmode": "group",
        "template": {
         "data": {
          "bar": [
           {
            "error_x": {
             "color": "#2a3f5f"
            },
            "error_y": {
             "color": "#2a3f5f"
            },
            "marker": {
             "line": {
              "color": "#E5ECF6",
              "width": 0.5
             },
             "pattern": {
              "fillmode": "overlay",
              "size": 10,
              "solidity": 0.2
             }
            },
            "type": "bar"
           }
          ],
          "barpolar": [
           {
            "marker": {
             "line": {
              "color": "#E5ECF6",
              "width": 0.5
             },
             "pattern": {
              "fillmode": "overlay",
              "size": 10,
              "solidity": 0.2
             }
            },
            "type": "barpolar"
           }
          ],
          "carpet": [
           {
            "aaxis": {
             "endlinecolor": "#2a3f5f",
             "gridcolor": "white",
             "linecolor": "white",
             "minorgridcolor": "white",
             "startlinecolor": "#2a3f5f"
            },
            "baxis": {
             "endlinecolor": "#2a3f5f",
             "gridcolor": "white",
             "linecolor": "white",
             "minorgridcolor": "white",
             "startlinecolor": "#2a3f5f"
            },
            "type": "carpet"
           }
          ],
          "choropleth": [
           {
            "colorbar": {
             "outlinewidth": 0,
             "ticks": ""
            },
            "type": "choropleth"
           }
          ],
          "contour": [
           {
            "colorbar": {
             "outlinewidth": 0,
             "ticks": ""
            },
            "colorscale": [
             [
              0,
              "#0d0887"
             ],
             [
              0.1111111111111111,
              "#46039f"
             ],
             [
              0.2222222222222222,
              "#7201a8"
             ],
             [
              0.3333333333333333,
              "#9c179e"
             ],
             [
              0.4444444444444444,
              "#bd3786"
             ],
             [
              0.5555555555555556,
              "#d8576b"
             ],
             [
              0.6666666666666666,
              "#ed7953"
             ],
             [
              0.7777777777777778,
              "#fb9f3a"
             ],
             [
              0.8888888888888888,
              "#fdca26"
             ],
             [
              1,
              "#f0f921"
             ]
            ],
            "type": "contour"
           }
          ],
          "contourcarpet": [
           {
            "colorbar": {
             "outlinewidth": 0,
             "ticks": ""
            },
            "type": "contourcarpet"
           }
          ],
          "heatmap": [
           {
            "colorbar": {
             "outlinewidth": 0,
             "ticks": ""
            },
            "colorscale": [
             [
              0,
              "#0d0887"
             ],
             [
              0.1111111111111111,
              "#46039f"
             ],
             [
              0.2222222222222222,
              "#7201a8"
             ],
             [
              0.3333333333333333,
              "#9c179e"
             ],
             [
              0.4444444444444444,
              "#bd3786"
             ],
             [
              0.5555555555555556,
              "#d8576b"
             ],
             [
              0.6666666666666666,
              "#ed7953"
             ],
             [
              0.7777777777777778,
              "#fb9f3a"
             ],
             [
              0.8888888888888888,
              "#fdca26"
             ],
             [
              1,
              "#f0f921"
             ]
            ],
            "type": "heatmap"
           }
          ],
          "heatmapgl": [
           {
            "colorbar": {
             "outlinewidth": 0,
             "ticks": ""
            },
            "colorscale": [
             [
              0,
              "#0d0887"
             ],
             [
              0.1111111111111111,
              "#46039f"
             ],
             [
              0.2222222222222222,
              "#7201a8"
             ],
             [
              0.3333333333333333,
              "#9c179e"
             ],
             [
              0.4444444444444444,
              "#bd3786"
             ],
             [
              0.5555555555555556,
              "#d8576b"
             ],
             [
              0.6666666666666666,
              "#ed7953"
             ],
             [
              0.7777777777777778,
              "#fb9f3a"
             ],
             [
              0.8888888888888888,
              "#fdca26"
             ],
             [
              1,
              "#f0f921"
             ]
            ],
            "type": "heatmapgl"
           }
          ],
          "histogram": [
           {
            "marker": {
             "pattern": {
              "fillmode": "overlay",
              "size": 10,
              "solidity": 0.2
             }
            },
            "type": "histogram"
           }
          ],
          "histogram2d": [
           {
            "colorbar": {
             "outlinewidth": 0,
             "ticks": ""
            },
            "colorscale": [
             [
              0,
              "#0d0887"
             ],
             [
              0.1111111111111111,
              "#46039f"
             ],
             [
              0.2222222222222222,
              "#7201a8"
             ],
             [
              0.3333333333333333,
              "#9c179e"
             ],
             [
              0.4444444444444444,
              "#bd3786"
             ],
             [
              0.5555555555555556,
              "#d8576b"
             ],
             [
              0.6666666666666666,
              "#ed7953"
             ],
             [
              0.7777777777777778,
              "#fb9f3a"
             ],
             [
              0.8888888888888888,
              "#fdca26"
             ],
             [
              1,
              "#f0f921"
             ]
            ],
            "type": "histogram2d"
           }
          ],
          "histogram2dcontour": [
           {
            "colorbar": {
             "outlinewidth": 0,
             "ticks": ""
            },
            "colorscale": [
             [
              0,
              "#0d0887"
             ],
             [
              0.1111111111111111,
              "#46039f"
             ],
             [
              0.2222222222222222,
              "#7201a8"
             ],
             [
              0.3333333333333333,
              "#9c179e"
             ],
             [
              0.4444444444444444,
              "#bd3786"
             ],
             [
              0.5555555555555556,
              "#d8576b"
             ],
             [
              0.6666666666666666,
              "#ed7953"
             ],
             [
              0.7777777777777778,
              "#fb9f3a"
             ],
             [
              0.8888888888888888,
              "#fdca26"
             ],
             [
              1,
              "#f0f921"
             ]
            ],
            "type": "histogram2dcontour"
           }
          ],
          "mesh3d": [
           {
            "colorbar": {
             "outlinewidth": 0,
             "ticks": ""
            },
            "type": "mesh3d"
           }
          ],
          "parcoords": [
           {
            "line": {
             "colorbar": {
              "outlinewidth": 0,
              "ticks": ""
             }
            },
            "type": "parcoords"
           }
          ],
          "pie": [
           {
            "automargin": true,
            "type": "pie"
           }
          ],
          "scatter": [
           {
            "fillpattern": {
             "fillmode": "overlay",
             "size": 10,
             "solidity": 0.2
            },
            "type": "scatter"
           }
          ],
          "scatter3d": [
           {
            "line": {
             "colorbar": {
              "outlinewidth": 0,
              "ticks": ""
             }
            },
            "marker": {
             "colorbar": {
              "outlinewidth": 0,
              "ticks": ""
             }
            },
            "type": "scatter3d"
           }
          ],
          "scattercarpet": [
           {
            "marker": {
             "colorbar": {
              "outlinewidth": 0,
              "ticks": ""
             }
            },
            "type": "scattercarpet"
           }
          ],
          "scattergeo": [
           {
            "marker": {
             "colorbar": {
              "outlinewidth": 0,
              "ticks": ""
             }
            },
            "type": "scattergeo"
           }
          ],
          "scattergl": [
           {
            "marker": {
             "colorbar": {
              "outlinewidth": 0,
              "ticks": ""
             }
            },
            "type": "scattergl"
           }
          ],
          "scattermapbox": [
           {
            "marker": {
             "colorbar": {
              "outlinewidth": 0,
              "ticks": ""
             }
            },
            "type": "scattermapbox"
           }
          ],
          "scatterpolar": [
           {
            "marker": {
             "colorbar": {
              "outlinewidth": 0,
              "ticks": ""
             }
            },
            "type": "scatterpolar"
           }
          ],
          "scatterpolargl": [
           {
            "marker": {
             "colorbar": {
              "outlinewidth": 0,
              "ticks": ""
             }
            },
            "type": "scatterpolargl"
           }
          ],
          "scatterternary": [
           {
            "marker": {
             "colorbar": {
              "outlinewidth": 0,
              "ticks": ""
             }
            },
            "type": "scatterternary"
           }
          ],
          "surface": [
           {
            "colorbar": {
             "outlinewidth": 0,
             "ticks": ""
            },
            "colorscale": [
             [
              0,
              "#0d0887"
             ],
             [
              0.1111111111111111,
              "#46039f"
             ],
             [
              0.2222222222222222,
              "#7201a8"
             ],
             [
              0.3333333333333333,
              "#9c179e"
             ],
             [
              0.4444444444444444,
              "#bd3786"
             ],
             [
              0.5555555555555556,
              "#d8576b"
             ],
             [
              0.6666666666666666,
              "#ed7953"
             ],
             [
              0.7777777777777778,
              "#fb9f3a"
             ],
             [
              0.8888888888888888,
              "#fdca26"
             ],
             [
              1,
              "#f0f921"
             ]
            ],
            "type": "surface"
           }
          ],
          "table": [
           {
            "cells": {
             "fill": {
              "color": "#EBF0F8"
             },
             "line": {
              "color": "white"
             }
            },
            "header": {
             "fill": {
              "color": "#C8D4E3"
             },
             "line": {
              "color": "white"
             }
            },
            "type": "table"
           }
          ]
         },
         "layout": {
          "annotationdefaults": {
           "arrowcolor": "#2a3f5f",
           "arrowhead": 0,
           "arrowwidth": 1
          },
          "autotypenumbers": "strict",
          "coloraxis": {
           "colorbar": {
            "outlinewidth": 0,
            "ticks": ""
           }
          },
          "colorscale": {
           "diverging": [
            [
             0,
             "#8e0152"
            ],
            [
             0.1,
             "#c51b7d"
            ],
            [
             0.2,
             "#de77ae"
            ],
            [
             0.3,
             "#f1b6da"
            ],
            [
             0.4,
             "#fde0ef"
            ],
            [
             0.5,
             "#f7f7f7"
            ],
            [
             0.6,
             "#e6f5d0"
            ],
            [
             0.7,
             "#b8e186"
            ],
            [
             0.8,
             "#7fbc41"
            ],
            [
             0.9,
             "#4d9221"
            ],
            [
             1,
             "#276419"
            ]
           ],
           "sequential": [
            [
             0,
             "#0d0887"
            ],
            [
             0.1111111111111111,
             "#46039f"
            ],
            [
             0.2222222222222222,
             "#7201a8"
            ],
            [
             0.3333333333333333,
             "#9c179e"
            ],
            [
             0.4444444444444444,
             "#bd3786"
            ],
            [
             0.5555555555555556,
             "#d8576b"
            ],
            [
             0.6666666666666666,
             "#ed7953"
            ],
            [
             0.7777777777777778,
             "#fb9f3a"
            ],
            [
             0.8888888888888888,
             "#fdca26"
            ],
            [
             1,
             "#f0f921"
            ]
           ],
           "sequentialminus": [
            [
             0,
             "#0d0887"
            ],
            [
             0.1111111111111111,
             "#46039f"
            ],
            [
             0.2222222222222222,
             "#7201a8"
            ],
            [
             0.3333333333333333,
             "#9c179e"
            ],
            [
             0.4444444444444444,
             "#bd3786"
            ],
            [
             0.5555555555555556,
             "#d8576b"
            ],
            [
             0.6666666666666666,
             "#ed7953"
            ],
            [
             0.7777777777777778,
             "#fb9f3a"
            ],
            [
             0.8888888888888888,
             "#fdca26"
            ],
            [
             1,
             "#f0f921"
            ]
           ]
          },
          "colorway": [
           "#636efa",
           "#EF553B",
           "#00cc96",
           "#ab63fa",
           "#FFA15A",
           "#19d3f3",
           "#FF6692",
           "#B6E880",
           "#FF97FF",
           "#FECB52"
          ],
          "font": {
           "color": "#2a3f5f"
          },
          "geo": {
           "bgcolor": "white",
           "lakecolor": "white",
           "landcolor": "#E5ECF6",
           "showlakes": true,
           "showland": true,
           "subunitcolor": "white"
          },
          "hoverlabel": {
           "align": "left"
          },
          "hovermode": "closest",
          "mapbox": {
           "style": "light"
          },
          "paper_bgcolor": "white",
          "plot_bgcolor": "#E5ECF6",
          "polar": {
           "angularaxis": {
            "gridcolor": "white",
            "linecolor": "white",
            "ticks": ""
           },
           "bgcolor": "#E5ECF6",
           "radialaxis": {
            "gridcolor": "white",
            "linecolor": "white",
            "ticks": ""
           }
          },
          "scene": {
           "xaxis": {
            "backgroundcolor": "#E5ECF6",
            "gridcolor": "white",
            "gridwidth": 2,
            "linecolor": "white",
            "showbackground": true,
            "ticks": "",
            "zerolinecolor": "white"
           },
           "yaxis": {
            "backgroundcolor": "#E5ECF6",
            "gridcolor": "white",
            "gridwidth": 2,
            "linecolor": "white",
            "showbackground": true,
            "ticks": "",
            "zerolinecolor": "white"
           },
           "zaxis": {
            "backgroundcolor": "#E5ECF6",
            "gridcolor": "white",
            "gridwidth": 2,
            "linecolor": "white",
            "showbackground": true,
            "ticks": "",
            "zerolinecolor": "white"
           }
          },
          "shapedefaults": {
           "line": {
            "color": "#2a3f5f"
           }
          },
          "ternary": {
           "aaxis": {
            "gridcolor": "white",
            "linecolor": "white",
            "ticks": ""
           },
           "baxis": {
            "gridcolor": "white",
            "linecolor": "white",
            "ticks": ""
           },
           "bgcolor": "#E5ECF6",
           "caxis": {
            "gridcolor": "white",
            "linecolor": "white",
            "ticks": ""
           }
          },
          "title": {
           "x": 0.05
          },
          "xaxis": {
           "automargin": true,
           "gridcolor": "white",
           "linecolor": "white",
           "ticks": "",
           "title": {
            "standoff": 15
           },
           "zerolinecolor": "white",
           "zerolinewidth": 2
          },
          "yaxis": {
           "automargin": true,
           "gridcolor": "white",
           "linecolor": "white",
           "ticks": "",
           "title": {
            "standoff": 15
           },
           "zerolinecolor": "white",
           "zerolinewidth": 2
          }
         }
        },
        "xaxis": {
         "title": {
          "text": "Procedure codes"
         }
        },
        "yaxis": {
         "title": {
          "text": "Duration in minutes"
         }
        }
       }
      }
     },
     "metadata": {},
     "output_type": "display_data"
    }
   ],
   "source": [
    "import itertools\n",
    "import plotly.graph_objects as go\n",
    "import pandas as pd\n",
    "\n",
    "columns = ['procedure_duration', 'ECC_duration', 'AOX_duration', 'DHCA_duration']\n",
    "# columns=['procedure_duration']\n",
    "procedures = ['333024B', '333226','333025', '333180']\n",
    "colors = ['#4e8ca9', '#D18E46', '#5BB6AB', '#A6CFDF']\n",
    "\n",
    "def create_plot_data(data, procedures, column, main_proc=False):        #! USING CALLBACKS\n",
    "    y_data=[]\n",
    "    x_names=[]\n",
    "\n",
    "    df_dict = pd.DataFrame({'name':['Norwood', 'Glenn', 'Adapted Fontan','ECMO'], 'code':['333024B', '333226','333025', '333180']})\n",
    "\n",
    "    if main_proc:\n",
    "        # print('main_proc is aan')\n",
    "        data = data.loc[data['main_procedure'] == 1]\n",
    "    print(len(data))\n",
    "\n",
    "    for proc in procedures:\n",
    "        data_temp = data[column].loc[data['procedure_code'] == proc]\n",
    "        y_data.extend(data_temp)\n",
    "        x_names.extend(list(itertools.repeat(df_dict['name'].loc[df_dict['code'] == proc].item(),\n",
    "                                             len(data_temp))))\n",
    "    return y_data, x_names\n",
    "\n",
    "\n",
    "\n",
    "df = pd.read_csv('../data/processed/20240603_data_processed.csv')\n",
    "fig = go.Figure()\n",
    "\n",
    "\n",
    "for i, column in enumerate(columns):\n",
    "    y_data, x_names = create_plot_data(data=df, procedures=procedures, column=column, main_proc=True)\n",
    "    fig.add_trace(go.Box(\n",
    "        boxpoints='all',\n",
    "        y= y_data,\n",
    "        x= x_names,\n",
    "        name= f'{column}',\n",
    "        marker_color= colors[i]\n",
    "    ))\n",
    "\n",
    "fig.update_layout(\n",
    "    yaxis_title='Duration in minutes',\n",
    "    xaxis_title='Procedure codes',\n",
    "    boxmode='group'             # group together boxes of the different traces for each value of x\n",
    ")\n",
    "fig.show()"
   ]
  },
  {
   "cell_type": "code",
   "execution_count": 53,
   "metadata": {},
   "outputs": [
    {
     "name": "stdout",
     "output_type": "stream",
     "text": [
      "Norwood\n"
     ]
    }
   ],
   "source": [
    "print(str(df_dict['name'].loc[df_dict['code'] == '333024B'].item()))"
   ]
  }
 ],
 "metadata": {
  "kernelspec": {
   "display_name": "py311",
   "language": "python",
   "name": "python3"
  },
  "language_info": {
   "codemirror_mode": {
    "name": "ipython",
    "version": 3
   },
   "file_extension": ".py",
   "mimetype": "text/x-python",
   "name": "python",
   "nbconvert_exporter": "python",
   "pygments_lexer": "ipython3",
   "version": "3.1.-1"
  }
 },
 "nbformat": 4,
 "nbformat_minor": 2
}
